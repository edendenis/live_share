{
 "cells": [
  {
   "cell_type": "markdown",
   "metadata": {},
   "source": [
    "# Como configurar/instalar/usar o `Live Share` no `VS Code`\n",
    "\n",
    "## Resumo\n",
    "\n",
    "Neste documento estão contidos os principais comandos e configurações para configurar/instalar o `Live Share` no `VS Code`.\n",
    "\n",
    "## _Abstract_\n",
    "\n",
    "_In this document are contained the main commands and settings to set up/install/usae the `Live Share` on `VS Code`._"
   ]
  },
  {
   "cell_type": "markdown",
   "metadata": {},
   "source": [
    "## Descrição [2]\n",
    "\n",
    "### `Live Share`\n",
    "\n",
    "O `Live Share` do `VS Code` é uma extensão colaborativa que permite a desenvolvedores compartilhar seu ambiente de desenvolvimento em tempo real com outros usuários. Com o `Live Share`, é possível convidar colegas para colaborar no mesmo projeto sem a necessidade de sincronizar arquivos manualmente. Os participantes podem editar o código simultaneamente, depurar juntos e até mesmo compartilhar terminais e servidores locais. A integração proporciona uma experiência de colaboração fluida e eficiente, facilitando o trabalho em equipe, revisão de código e suporte remoto.\n"
   ]
  },
  {
   "cell_type": "markdown",
   "metadata": {},
   "source": [
    "## 1. Como configurar/instalar/usar o `Live Share` no `VS Code` [1]\n",
    "\n",
    "A Microsoft oferece uma extensão chamada `Live Share` que permite a colaboração em tempo real entre desenvolvedores. Aqui está como você pode configurar e usar o `Live Share` no `VS Code`:\n",
    "\n",
    "### 1.1 Passos para configurar o `Live Share` no `VS Code`\n",
    "\n",
    "Instalar a extensão `Live Share`:\n",
    "\n",
    "1. Abra o `VS Code`.\n",
    "\n",
    "2. Vá para a aba de extensões clicando no ícone de quadrado no lado esquerdo ou usando o atalho `Ctrl+Shift+X`.\n",
    "\n",
    "3. No campo de busca, digite `\"Live Share\"` e instale a extensão chamada `\"Live Share\"` (desenvolvida pela Microsoft)."
   ]
  },
  {
   "cell_type": "markdown",
   "metadata": {
    "vscode": {
     "languageId": "plaintext"
    }
   },
   "source": [
    "### 1.2 Iniciar uma sessão de compartilhamento\n",
    "\n",
    "1. Após instalar a extensão, um ícone de `\"Live Share\"` aparecerá na barra de status (parte inferior do `VS Code`).\n",
    "\n",
    "2. Clique nesse ícone para iniciar uma sessão de compartilhamento.\n",
    "\n",
    "3. O `VS Code` irá gerar um _link_ que você pode compartilhar com seus colegas.\n"
   ]
  },
  {
   "cell_type": "markdown",
   "metadata": {
    "vscode": {
     "languageId": "plaintext"
    }
   },
   "source": [
    "### 1.3 Participar de uma sessão\n",
    "\n",
    "1. Se você receber um _link_ de compartilhamento, basta clicar nele.\n",
    "\n",
    "2. O `VS Code` será aberto (ou a sessão será iniciada diretamente se o `VS Code` já estiver aberto) e você poderá colaborar com o anfitrião na mesma área de trabalho.\n"
   ]
  },
  {
   "cell_type": "markdown",
   "metadata": {
    "vscode": {
     "languageId": "plaintext"
    }
   },
   "source": [
    "## 2. Recursos adicionais do Live Share\n",
    "\n",
    "- **Compartilhamento de terminal**: Você pode compartilhar seu terminal com outros participantes, permitindo que eles vejam a saída de comandos ou até executem comandos, dependendo das permissões que você definir.\n",
    "\n",
    "- **_Debugging_ colaborativo**: É possível realizar sessões de depuração (_debugging_) colaborativa, onde todos os participantes podem ver e interagir com os pontos de interrupção (_breakpoints_) e variáveis.\n",
    "\n",
    "- **Chat e comentários**: A extensão também oferece suporte a _chat_ e anotações dentro do editor para facilitar a comunicação.\n"
   ]
  },
  {
   "cell_type": "markdown",
   "metadata": {
    "vscode": {
     "languageId": "plaintext"
    }
   },
   "source": [
    "## 3. Considerações de Segurança\n",
    "\n",
    "- **Permissões**: Você pode controlar as permissões de leitura/escrita dos seus convidados, garantindo que apenas as pessoas certas tenham acesso de edição ao código.\n",
    "\n",
    "- **Encerramento da sessão**: Certifique-se de encerrar a sessão de `Live Share` ao terminar a colaboração para garantir que ninguém mais tenha acesso ao seu código.\n",
    "\n",
    "Com essas etapas, você pode colaborar em tempo real com outros desenvolvedores diretamente no `VS Code`, o que pode ser muito útil para _pair programming_, revisões de código, e suporte técnico."
   ]
  },
  {
   "cell_type": "markdown",
   "metadata": {},
   "source": [
    "## 2. Código completo para configurar/instalar o `Live Share` no `VS Code`\n",
    "\n",
    "Para configurar/instalar/usar o `Live Share` no `VS Code` sem precisar digitar linha por linha, você pode seguir estas etapas:\n",
    "\n",
    "1. Abra o `Terminal Emulator`. Você pode fazer isso pressionando: `Ctrl + Alt + T`\n",
    "\n",
    "2. Digite o seguinte comando e pressione `Enter`:\n",
    "\n",
    "    ```\n",
    "    NÃO há.\n",
    "    ```\n"
   ]
  },
  {
   "cell_type": "markdown",
   "metadata": {
    "vscode": {
     "languageId": "plaintext"
    }
   },
   "source": [
    "## Referências\n",
    "\n",
    "[1] OPENAI. ***Colaboração em tempo real.*** Disponível em: <https://chatgpt.com/c/15d5012f-f318-4acb-81fe-f4d6e008ee2a> (texto adaptado). Acessado em: 12/08/2024 16:05.\n",
    "\n",
    "[2] OPENAI. ***VS code: editor popular.*** Disponível em: <https://chat.openai.com/c/b640a25d-f8e3-4922-8a3b-ed74a2657e42> (texto adaptado). Acessado em: 12/08/2024 09:33.\n"
   ]
  }
 ],
 "metadata": {
  "kernelspec": {
   "display_name": "Python 3",
   "language": "python",
   "name": "python3"
  },
  "language_info": {
   "codemirror_mode": {
    "name": "ipython",
    "version": 3
   },
   "file_extension": ".py",
   "mimetype": "text/x-python",
   "name": "python",
   "nbconvert_exporter": "python",
   "pygments_lexer": "ipython3",
   "version": "3.8.10"
  },
  "orig_nbformat": 4
 },
 "nbformat": 4,
 "nbformat_minor": 2
}
